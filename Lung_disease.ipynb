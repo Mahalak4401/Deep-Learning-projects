{
  "nbformat": 4,
  "nbformat_minor": 0,
  "metadata": {
    "colab": {
      "provenance": [],
      "include_colab_link": true
    },
    "kernelspec": {
      "name": "python3",
      "display_name": "Python 3"
    },
    "language_info": {
      "name": "python"
    }
  },
  "cells": [
    {
      "cell_type": "markdown",
      "metadata": {
        "id": "view-in-github",
        "colab_type": "text"
      },
      "source": [
        "<a href=\"https://colab.research.google.com/github/Mahalak4401/Deep-Learning-projects/blob/main/Lung_disease.ipynb\" target=\"_parent\"><img src=\"https://colab.research.google.com/assets/colab-badge.svg\" alt=\"Open In Colab\"/></a>"
      ]
    },
    {
      "cell_type": "markdown",
      "source": [
        "Lung Disease Using Different Optimizers"
      ],
      "metadata": {
        "id": "CYYsAqqwhcZ6"
      }
    },
    {
      "cell_type": "code",
      "execution_count": null,
      "metadata": {
        "id": "14dE2uTd7SYZ"
      },
      "outputs": [],
      "source": [
        "import pandas as pd\n",
        "import numpy as np\n",
        "import matplotlib.pyplot as plt\n"
      ]
    },
    {
      "cell_type": "code",
      "source": [
        "data=pd.read_csv('/content/lung_cancer_examples.csv')"
      ],
      "metadata": {
        "id": "9BDm2POL8K6z"
      },
      "execution_count": null,
      "outputs": []
    },
    {
      "cell_type": "code",
      "source": [
        "data.head()"
      ],
      "metadata": {
        "colab": {
          "base_uri": "https://localhost:8080/",
          "height": 206
        },
        "id": "VXFwsXOk7kQu",
        "outputId": "38a1d962-dbbb-498c-85aa-ecd4481dcbbc"
      },
      "execution_count": null,
      "outputs": [
        {
          "output_type": "execute_result",
          "data": {
            "text/plain": [
              "     Name      Surname  Age  Smokes  AreaQ  Alkhol  Result\n",
              "0    John         Wick   35       3      5       4       1\n",
              "1    John  Constantine   27      20      2       5       1\n",
              "2  Camela     Anderson   30       0      5       2       0\n",
              "3    Alex       Telles   28       0      8       1       0\n",
              "4   Diego     Maradona   68       4      5       6       1"
            ],
            "text/html": [
              "\n",
              "  <div id=\"df-c461da01-a0f2-4a07-8655-8302d2b8bf37\">\n",
              "    <div class=\"colab-df-container\">\n",
              "      <div>\n",
              "<style scoped>\n",
              "    .dataframe tbody tr th:only-of-type {\n",
              "        vertical-align: middle;\n",
              "    }\n",
              "\n",
              "    .dataframe tbody tr th {\n",
              "        vertical-align: top;\n",
              "    }\n",
              "\n",
              "    .dataframe thead th {\n",
              "        text-align: right;\n",
              "    }\n",
              "</style>\n",
              "<table border=\"1\" class=\"dataframe\">\n",
              "  <thead>\n",
              "    <tr style=\"text-align: right;\">\n",
              "      <th></th>\n",
              "      <th>Name</th>\n",
              "      <th>Surname</th>\n",
              "      <th>Age</th>\n",
              "      <th>Smokes</th>\n",
              "      <th>AreaQ</th>\n",
              "      <th>Alkhol</th>\n",
              "      <th>Result</th>\n",
              "    </tr>\n",
              "  </thead>\n",
              "  <tbody>\n",
              "    <tr>\n",
              "      <th>0</th>\n",
              "      <td>John</td>\n",
              "      <td>Wick</td>\n",
              "      <td>35</td>\n",
              "      <td>3</td>\n",
              "      <td>5</td>\n",
              "      <td>4</td>\n",
              "      <td>1</td>\n",
              "    </tr>\n",
              "    <tr>\n",
              "      <th>1</th>\n",
              "      <td>John</td>\n",
              "      <td>Constantine</td>\n",
              "      <td>27</td>\n",
              "      <td>20</td>\n",
              "      <td>2</td>\n",
              "      <td>5</td>\n",
              "      <td>1</td>\n",
              "    </tr>\n",
              "    <tr>\n",
              "      <th>2</th>\n",
              "      <td>Camela</td>\n",
              "      <td>Anderson</td>\n",
              "      <td>30</td>\n",
              "      <td>0</td>\n",
              "      <td>5</td>\n",
              "      <td>2</td>\n",
              "      <td>0</td>\n",
              "    </tr>\n",
              "    <tr>\n",
              "      <th>3</th>\n",
              "      <td>Alex</td>\n",
              "      <td>Telles</td>\n",
              "      <td>28</td>\n",
              "      <td>0</td>\n",
              "      <td>8</td>\n",
              "      <td>1</td>\n",
              "      <td>0</td>\n",
              "    </tr>\n",
              "    <tr>\n",
              "      <th>4</th>\n",
              "      <td>Diego</td>\n",
              "      <td>Maradona</td>\n",
              "      <td>68</td>\n",
              "      <td>4</td>\n",
              "      <td>5</td>\n",
              "      <td>6</td>\n",
              "      <td>1</td>\n",
              "    </tr>\n",
              "  </tbody>\n",
              "</table>\n",
              "</div>\n",
              "      <button class=\"colab-df-convert\" onclick=\"convertToInteractive('df-c461da01-a0f2-4a07-8655-8302d2b8bf37')\"\n",
              "              title=\"Convert this dataframe to an interactive table.\"\n",
              "              style=\"display:none;\">\n",
              "        \n",
              "  <svg xmlns=\"http://www.w3.org/2000/svg\" height=\"24px\"viewBox=\"0 0 24 24\"\n",
              "       width=\"24px\">\n",
              "    <path d=\"M0 0h24v24H0V0z\" fill=\"none\"/>\n",
              "    <path d=\"M18.56 5.44l.94 2.06.94-2.06 2.06-.94-2.06-.94-.94-2.06-.94 2.06-2.06.94zm-11 1L8.5 8.5l.94-2.06 2.06-.94-2.06-.94L8.5 2.5l-.94 2.06-2.06.94zm10 10l.94 2.06.94-2.06 2.06-.94-2.06-.94-.94-2.06-.94 2.06-2.06.94z\"/><path d=\"M17.41 7.96l-1.37-1.37c-.4-.4-.92-.59-1.43-.59-.52 0-1.04.2-1.43.59L10.3 9.45l-7.72 7.72c-.78.78-.78 2.05 0 2.83L4 21.41c.39.39.9.59 1.41.59.51 0 1.02-.2 1.41-.59l7.78-7.78 2.81-2.81c.8-.78.8-2.07 0-2.86zM5.41 20L4 18.59l7.72-7.72 1.47 1.35L5.41 20z\"/>\n",
              "  </svg>\n",
              "      </button>\n",
              "      \n",
              "  <style>\n",
              "    .colab-df-container {\n",
              "      display:flex;\n",
              "      flex-wrap:wrap;\n",
              "      gap: 12px;\n",
              "    }\n",
              "\n",
              "    .colab-df-convert {\n",
              "      background-color: #E8F0FE;\n",
              "      border: none;\n",
              "      border-radius: 50%;\n",
              "      cursor: pointer;\n",
              "      display: none;\n",
              "      fill: #1967D2;\n",
              "      height: 32px;\n",
              "      padding: 0 0 0 0;\n",
              "      width: 32px;\n",
              "    }\n",
              "\n",
              "    .colab-df-convert:hover {\n",
              "      background-color: #E2EBFA;\n",
              "      box-shadow: 0px 1px 2px rgba(60, 64, 67, 0.3), 0px 1px 3px 1px rgba(60, 64, 67, 0.15);\n",
              "      fill: #174EA6;\n",
              "    }\n",
              "\n",
              "    [theme=dark] .colab-df-convert {\n",
              "      background-color: #3B4455;\n",
              "      fill: #D2E3FC;\n",
              "    }\n",
              "\n",
              "    [theme=dark] .colab-df-convert:hover {\n",
              "      background-color: #434B5C;\n",
              "      box-shadow: 0px 1px 3px 1px rgba(0, 0, 0, 0.15);\n",
              "      filter: drop-shadow(0px 1px 2px rgba(0, 0, 0, 0.3));\n",
              "      fill: #FFFFFF;\n",
              "    }\n",
              "  </style>\n",
              "\n",
              "      <script>\n",
              "        const buttonEl =\n",
              "          document.querySelector('#df-c461da01-a0f2-4a07-8655-8302d2b8bf37 button.colab-df-convert');\n",
              "        buttonEl.style.display =\n",
              "          google.colab.kernel.accessAllowed ? 'block' : 'none';\n",
              "\n",
              "        async function convertToInteractive(key) {\n",
              "          const element = document.querySelector('#df-c461da01-a0f2-4a07-8655-8302d2b8bf37');\n",
              "          const dataTable =\n",
              "            await google.colab.kernel.invokeFunction('convertToInteractive',\n",
              "                                                     [key], {});\n",
              "          if (!dataTable) return;\n",
              "\n",
              "          const docLinkHtml = 'Like what you see? Visit the ' +\n",
              "            '<a target=\"_blank\" href=https://colab.research.google.com/notebooks/data_table.ipynb>data table notebook</a>'\n",
              "            + ' to learn more about interactive tables.';\n",
              "          element.innerHTML = '';\n",
              "          dataTable['output_type'] = 'display_data';\n",
              "          await google.colab.output.renderOutput(dataTable, element);\n",
              "          const docLink = document.createElement('div');\n",
              "          docLink.innerHTML = docLinkHtml;\n",
              "          element.appendChild(docLink);\n",
              "        }\n",
              "      </script>\n",
              "    </div>\n",
              "  </div>\n",
              "  "
            ]
          },
          "metadata": {},
          "execution_count": 102
        }
      ]
    },
    {
      "cell_type": "code",
      "source": [
        "data.isnull().sum()"
      ],
      "metadata": {
        "colab": {
          "base_uri": "https://localhost:8080/"
        },
        "id": "1qG4GtgH7kUc",
        "outputId": "ed9742a4-7e57-4528-e62a-0271036ca5e3"
      },
      "execution_count": null,
      "outputs": [
        {
          "output_type": "execute_result",
          "data": {
            "text/plain": [
              "Name       0\n",
              "Surname    0\n",
              "Age        0\n",
              "Smokes     0\n",
              "AreaQ      0\n",
              "Alkhol     0\n",
              "Result     0\n",
              "dtype: int64"
            ]
          },
          "metadata": {},
          "execution_count": 103
        }
      ]
    },
    {
      "cell_type": "code",
      "source": [
        "x=data.drop(['Name','Surname'],axis=1)\n",
        "y=data['Result']"
      ],
      "metadata": {
        "id": "SKHovRzJ7kX3"
      },
      "execution_count": null,
      "outputs": []
    },
    {
      "cell_type": "code",
      "source": [
        "data.info()"
      ],
      "metadata": {
        "colab": {
          "base_uri": "https://localhost:8080/"
        },
        "id": "8aLBak4z-Ffe",
        "outputId": "d7e3e6d8-b0c1-4ec9-d013-e7b88d3c4d3e"
      },
      "execution_count": null,
      "outputs": [
        {
          "output_type": "stream",
          "name": "stdout",
          "text": [
            "<class 'pandas.core.frame.DataFrame'>\n",
            "RangeIndex: 59 entries, 0 to 58\n",
            "Data columns (total 7 columns):\n",
            " #   Column   Non-Null Count  Dtype \n",
            "---  ------   --------------  ----- \n",
            " 0   Name     59 non-null     object\n",
            " 1   Surname  59 non-null     object\n",
            " 2   Age      59 non-null     int64 \n",
            " 3   Smokes   59 non-null     int64 \n",
            " 4   AreaQ    59 non-null     int64 \n",
            " 5   Alkhol   59 non-null     int64 \n",
            " 6   Result   59 non-null     int64 \n",
            "dtypes: int64(5), object(2)\n",
            "memory usage: 3.4+ KB\n"
          ]
        }
      ]
    },
    {
      "cell_type": "code",
      "source": [
        "from sklearn.model_selection import train_test_split\n",
        "\n",
        "xtrain,xtest,ytrain,ytest = train_test_split(x,y,test_size=0.15,random_state=100)"
      ],
      "metadata": {
        "id": "LBo8gDyd-KB6"
      },
      "execution_count": null,
      "outputs": []
    },
    {
      "cell_type": "code",
      "source": [
        "xtrain.shape , xtest.shape"
      ],
      "metadata": {
        "colab": {
          "base_uri": "https://localhost:8080/"
        },
        "id": "3I-n0mpO-q0P",
        "outputId": "040f6c72-416e-4537-8e49-84449529e768"
      },
      "execution_count": null,
      "outputs": [
        {
          "output_type": "execute_result",
          "data": {
            "text/plain": [
              "((50, 5), (9, 5))"
            ]
          },
          "metadata": {},
          "execution_count": 107
        }
      ]
    },
    {
      "cell_type": "code",
      "source": [
        "from keras.models import Sequential\n",
        "from keras.layers import Dense\n",
        "from tensorflow.keras.optimizers import Adam"
      ],
      "metadata": {
        "id": "3RuAr9RO_Ch2"
      },
      "execution_count": null,
      "outputs": []
    },
    {
      "cell_type": "code",
      "source": [
        "model=Sequential()\n",
        "model.add(Dense(16,activation='relu',input_dim=(xtrain.shape[1])))\n",
        "model.add(Dense(4,activation='relu'))\n",
        "model.add(Dense(1,activation='sigmoid'))"
      ],
      "metadata": {
        "id": "j_CcqS4h_TJz"
      },
      "execution_count": null,
      "outputs": []
    },
    {
      "cell_type": "code",
      "source": [
        "model.summary()"
      ],
      "metadata": {
        "colab": {
          "base_uri": "https://localhost:8080/"
        },
        "id": "1LvNGYe1CRbA",
        "outputId": "72fc66ef-cc79-4458-c1a7-64fe6114dff7"
      },
      "execution_count": null,
      "outputs": [
        {
          "output_type": "stream",
          "name": "stdout",
          "text": [
            "Model: \"sequential_21\"\n",
            "_________________________________________________________________\n",
            " Layer (type)                Output Shape              Param #   \n",
            "=================================================================\n",
            " dense_52 (Dense)            (None, 16)                96        \n",
            "                                                                 \n",
            " dense_53 (Dense)            (None, 4)                 68        \n",
            "                                                                 \n",
            " dense_54 (Dense)            (None, 1)                 5         \n",
            "                                                                 \n",
            "=================================================================\n",
            "Total params: 169\n",
            "Trainable params: 169\n",
            "Non-trainable params: 0\n",
            "_________________________________________________________________\n"
          ]
        }
      ]
    },
    {
      "cell_type": "code",
      "source": [
        "model.compile(loss='binary_crossentropy',optimizer='adam',metrics='accuracy')"
      ],
      "metadata": {
        "id": "xg5PH_6kCRec"
      },
      "execution_count": null,
      "outputs": []
    },
    {
      "cell_type": "code",
      "source": [
        "model.fit(xtrain,ytrain,batch_size=32,epochs=30)"
      ],
      "metadata": {
        "colab": {
          "base_uri": "https://localhost:8080/"
        },
        "id": "pPwYQ7ACCRu7",
        "outputId": "6cd0a503-7b25-4dbc-aaed-b635f8e62446"
      },
      "execution_count": null,
      "outputs": [
        {
          "output_type": "stream",
          "name": "stdout",
          "text": [
            "Epoch 1/30\n",
            "2/2 [==============================] - 0s 5ms/step - loss: 1.4780 - accuracy: 0.5000\n",
            "Epoch 2/30\n",
            "2/2 [==============================] - 0s 10ms/step - loss: 1.3499 - accuracy: 0.5000\n",
            "Epoch 3/30\n",
            "2/2 [==============================] - 0s 4ms/step - loss: 1.2263 - accuracy: 0.5000\n",
            "Epoch 4/30\n",
            "2/2 [==============================] - 0s 4ms/step - loss: 1.1085 - accuracy: 0.5000\n",
            "Epoch 5/30\n",
            "2/2 [==============================] - 0s 3ms/step - loss: 1.0264 - accuracy: 0.5000\n",
            "Epoch 6/30\n",
            "2/2 [==============================] - 0s 6ms/step - loss: 0.9642 - accuracy: 0.4600\n",
            "Epoch 7/30\n",
            "2/2 [==============================] - 0s 5ms/step - loss: 0.9251 - accuracy: 0.4400\n",
            "Epoch 8/30\n",
            "2/2 [==============================] - 0s 5ms/step - loss: 0.9269 - accuracy: 0.3600\n",
            "Epoch 9/30\n",
            "2/2 [==============================] - 0s 5ms/step - loss: 0.9245 - accuracy: 0.2800\n",
            "Epoch 10/30\n",
            "2/2 [==============================] - 0s 5ms/step - loss: 0.9232 - accuracy: 0.2600\n",
            "Epoch 11/30\n",
            "2/2 [==============================] - 0s 6ms/step - loss: 0.9162 - accuracy: 0.2800\n",
            "Epoch 12/30\n",
            "2/2 [==============================] - 0s 5ms/step - loss: 0.9007 - accuracy: 0.2800\n",
            "Epoch 13/30\n",
            "2/2 [==============================] - 0s 5ms/step - loss: 0.8807 - accuracy: 0.3200\n",
            "Epoch 14/30\n",
            "2/2 [==============================] - 0s 4ms/step - loss: 0.8623 - accuracy: 0.3600\n",
            "Epoch 15/30\n",
            "2/2 [==============================] - 0s 5ms/step - loss: 0.8478 - accuracy: 0.4200\n",
            "Epoch 16/30\n",
            "2/2 [==============================] - 0s 6ms/step - loss: 0.8400 - accuracy: 0.4200\n",
            "Epoch 17/30\n",
            "2/2 [==============================] - 0s 4ms/step - loss: 0.8288 - accuracy: 0.4600\n",
            "Epoch 18/30\n",
            "2/2 [==============================] - 0s 5ms/step - loss: 0.8217 - accuracy: 0.4600\n",
            "Epoch 19/30\n",
            "2/2 [==============================] - 0s 5ms/step - loss: 0.8136 - accuracy: 0.4600\n",
            "Epoch 20/30\n",
            "2/2 [==============================] - 0s 6ms/step - loss: 0.8041 - accuracy: 0.4600\n",
            "Epoch 21/30\n",
            "2/2 [==============================] - 0s 5ms/step - loss: 0.7945 - accuracy: 0.4600\n",
            "Epoch 22/30\n",
            "2/2 [==============================] - 0s 3ms/step - loss: 0.7827 - accuracy: 0.4600\n",
            "Epoch 23/30\n",
            "2/2 [==============================] - 0s 3ms/step - loss: 0.7723 - accuracy: 0.4600\n",
            "Epoch 24/30\n",
            "2/2 [==============================] - 0s 3ms/step - loss: 0.7615 - accuracy: 0.4600\n",
            "Epoch 25/30\n",
            "2/2 [==============================] - 0s 3ms/step - loss: 0.7514 - accuracy: 0.4600\n",
            "Epoch 26/30\n",
            "2/2 [==============================] - 0s 3ms/step - loss: 0.7429 - accuracy: 0.4600\n",
            "Epoch 27/30\n",
            "2/2 [==============================] - 0s 3ms/step - loss: 0.7356 - accuracy: 0.4400\n",
            "Epoch 28/30\n",
            "2/2 [==============================] - 0s 3ms/step - loss: 0.7275 - accuracy: 0.4400\n",
            "Epoch 29/30\n",
            "2/2 [==============================] - 0s 4ms/step - loss: 0.7186 - accuracy: 0.4600\n",
            "Epoch 30/30\n",
            "2/2 [==============================] - 0s 3ms/step - loss: 0.7099 - accuracy: 0.4600\n"
          ]
        },
        {
          "output_type": "execute_result",
          "data": {
            "text/plain": [
              "<keras.callbacks.History at 0x7fae45af9c90>"
            ]
          },
          "metadata": {},
          "execution_count": 140
        }
      ]
    },
    {
      "cell_type": "code",
      "source": [
        "pred=model.predict(xtest)"
      ],
      "metadata": {
        "id": "VL-dqBFnEeLm"
      },
      "execution_count": null,
      "outputs": []
    },
    {
      "cell_type": "code",
      "source": [
        "ypred=(pred>0.5)"
      ],
      "metadata": {
        "id": "U9VUQPGeEeIG"
      },
      "execution_count": null,
      "outputs": []
    },
    {
      "cell_type": "code",
      "source": [
        "from sklearn.metrics import classification_report, confusion_matrix, accuracy_score"
      ],
      "metadata": {
        "id": "rFVbdy3zEeFj"
      },
      "execution_count": null,
      "outputs": []
    },
    {
      "cell_type": "code",
      "source": [
        "confusion_matrix(ytest,ypred)"
      ],
      "metadata": {
        "colab": {
          "base_uri": "https://localhost:8080/"
        },
        "id": "A4swiFwFEeDD",
        "outputId": "6e8857f2-6582-4f57-912a-8d116c3e5f27"
      },
      "execution_count": null,
      "outputs": [
        {
          "output_type": "execute_result",
          "data": {
            "text/plain": [
              "array([[6, 0],\n",
              "       [3, 0]])"
            ]
          },
          "metadata": {},
          "execution_count": 141
        }
      ]
    },
    {
      "cell_type": "code",
      "execution_count": null,
      "metadata": {
        "colab": {
          "base_uri": "https://localhost:8080/"
        },
        "id": "EUMqRzQHlOaV",
        "outputId": "bf9884db-1f46-4416-b75d-5937bcee1fe4"
      },
      "outputs": [
        {
          "output_type": "stream",
          "name": "stdout",
          "text": [
            "              precision    recall  f1-score   support\n",
            "\n",
            "           0       0.67      1.00      0.80         6\n",
            "           1       0.00      0.00      0.00         3\n",
            "\n",
            "    accuracy                           0.67         9\n",
            "   macro avg       0.33      0.50      0.40         9\n",
            "weighted avg       0.44      0.67      0.53         9\n",
            "\n",
            "\n"
          ]
        },
        {
          "output_type": "stream",
          "name": "stderr",
          "text": [
            "/usr/local/lib/python3.7/dist-packages/sklearn/metrics/_classification.py:1318: UndefinedMetricWarning: Precision and F-score are ill-defined and being set to 0.0 in labels with no predicted samples. Use `zero_division` parameter to control this behavior.\n",
            "  _warn_prf(average, modifier, msg_start, len(result))\n",
            "/usr/local/lib/python3.7/dist-packages/sklearn/metrics/_classification.py:1318: UndefinedMetricWarning: Precision and F-score are ill-defined and being set to 0.0 in labels with no predicted samples. Use `zero_division` parameter to control this behavior.\n",
            "  _warn_prf(average, modifier, msg_start, len(result))\n",
            "/usr/local/lib/python3.7/dist-packages/sklearn/metrics/_classification.py:1318: UndefinedMetricWarning: Precision and F-score are ill-defined and being set to 0.0 in labels with no predicted samples. Use `zero_division` parameter to control this behavior.\n",
            "  _warn_prf(average, modifier, msg_start, len(result))\n"
          ]
        }
      ],
      "source": [
        "print(classification_report(ytest,ypred))\n",
        "print()"
      ]
    },
    {
      "cell_type": "code",
      "source": [
        "opt=['adam','SGD','adagrad','Adadelta','RMSprop']\n",
        "for i in opt:\n",
        "  print(\"------------------------Model for\",i,\"optimizer------------------\")\n",
        "  model.compile(loss='binary_crossentropy',optimizer=i,metrics='accuracy')\n",
        "  model.fit(xtrain,ytrain,batch_size=32,epochs=30,verbose=0)\n",
        "  print(\"Fitting the model is completed\")\n",
        "  pred=model.predict(xtest)\n",
        "  ypred=(pred>0.7)\n",
        "  from sklearn.metrics import classification_report, confusion_matrix, accuracy_score\n",
        "  print(\"Confusion Matrix: \",confusion_matrix(ytest,ypred))\n",
        "  print(\"Classification report: \",classification_report(ytest,ypred))\n",
        "  print(\"----------------------\",i,\"END------------------------------------\\n\")"
      ],
      "metadata": {
        "colab": {
          "base_uri": "https://localhost:8080/"
        },
        "id": "YrIdrMvMEd0C",
        "outputId": "cf52d5d8-e2a6-4b87-d638-0e41cf6bb784"
      },
      "execution_count": null,
      "outputs": [
        {
          "output_type": "stream",
          "name": "stdout",
          "text": [
            "------------------------Model for adam optimizer------------------\n",
            "Fitting the model is completed\n",
            "Confusion Matrix:  [[6 0]\n",
            " [1 2]]\n",
            "Classification report:                precision    recall  f1-score   support\n",
            "\n",
            "           0       0.86      1.00      0.92         6\n",
            "           1       1.00      0.67      0.80         3\n",
            "\n",
            "    accuracy                           0.89         9\n",
            "   macro avg       0.93      0.83      0.86         9\n",
            "weighted avg       0.90      0.89      0.88         9\n",
            "\n",
            "---------------------- adam END------------------------------------\n",
            "\n",
            "------------------------Model for SGD optimizer------------------\n",
            "Fitting the model is completed\n",
            "Confusion Matrix:  [[6 0]\n",
            " [0 3]]\n",
            "Classification report:                precision    recall  f1-score   support\n",
            "\n",
            "           0       1.00      1.00      1.00         6\n",
            "           1       1.00      1.00      1.00         3\n",
            "\n",
            "    accuracy                           1.00         9\n",
            "   macro avg       1.00      1.00      1.00         9\n",
            "weighted avg       1.00      1.00      1.00         9\n",
            "\n",
            "---------------------- SGD END------------------------------------\n",
            "\n",
            "------------------------Model for adagrad optimizer------------------\n",
            "Fitting the model is completed\n",
            "Confusion Matrix:  [[6 0]\n",
            " [0 3]]\n",
            "Classification report:                precision    recall  f1-score   support\n",
            "\n",
            "           0       1.00      1.00      1.00         6\n",
            "           1       1.00      1.00      1.00         3\n",
            "\n",
            "    accuracy                           1.00         9\n",
            "   macro avg       1.00      1.00      1.00         9\n",
            "weighted avg       1.00      1.00      1.00         9\n",
            "\n",
            "---------------------- adagrad END------------------------------------\n",
            "\n",
            "------------------------Model for Adadelta optimizer------------------\n",
            "Fitting the model is completed\n",
            "Confusion Matrix:  [[6 0]\n",
            " [0 3]]\n",
            "Classification report:                precision    recall  f1-score   support\n",
            "\n",
            "           0       1.00      1.00      1.00         6\n",
            "           1       1.00      1.00      1.00         3\n",
            "\n",
            "    accuracy                           1.00         9\n",
            "   macro avg       1.00      1.00      1.00         9\n",
            "weighted avg       1.00      1.00      1.00         9\n",
            "\n",
            "---------------------- Adadelta END------------------------------------\n",
            "\n",
            "------------------------Model for RMSprop optimizer------------------\n",
            "Fitting the model is completed\n",
            "Confusion Matrix:  [[6 0]\n",
            " [0 3]]\n",
            "Classification report:                precision    recall  f1-score   support\n",
            "\n",
            "           0       1.00      1.00      1.00         6\n",
            "           1       1.00      1.00      1.00         3\n",
            "\n",
            "    accuracy                           1.00         9\n",
            "   macro avg       1.00      1.00      1.00         9\n",
            "weighted avg       1.00      1.00      1.00         9\n",
            "\n",
            "---------------------- RMSprop END------------------------------------\n",
            "\n"
          ]
        }
      ]
    },
    {
      "cell_type": "code",
      "source": [],
      "metadata": {
        "id": "OKPZkRjlJSLW"
      },
      "execution_count": null,
      "outputs": []
    },
    {
      "cell_type": "code",
      "source": [],
      "metadata": {
        "id": "UQwOFBgfJSHa"
      },
      "execution_count": null,
      "outputs": []
    }
  ]
}